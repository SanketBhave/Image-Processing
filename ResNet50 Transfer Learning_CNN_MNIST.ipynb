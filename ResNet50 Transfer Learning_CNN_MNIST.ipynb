{
 "cells": [
  {
   "cell_type": "code",
   "execution_count": 1,
   "id": "9a53f7a3",
   "metadata": {},
   "outputs": [],
   "source": [
    "import torch\n",
    "from torchvision import datasets\n",
    "from torchvision.transforms import ToTensor\n",
    "from torch.utils.data import DataLoader, TensorDataset\n",
    "from torch import optim\n",
    "import torchvision\n",
    "import torch.nn as nn\n",
    "from sklearn.metrics import confusion_matrix\n",
    "import pandas as pd\n",
    "import numpy as np\n",
    "from matplotlib import pyplot as plt\n",
    "import seaborn as sn"
   ]
  },
  {
   "cell_type": "code",
   "execution_count": 2,
   "id": "b4abccfc",
   "metadata": {},
   "outputs": [
    {
     "data": {
      "text/plain": [
       "device(type='cuda')"
      ]
     },
     "execution_count": 2,
     "metadata": {},
     "output_type": "execute_result"
    }
   ],
   "source": [
    "device = torch.device('cuda' if torch.cuda.is_available() else 'cpu')\n",
    "device"
   ]
  },
  {
   "cell_type": "code",
   "execution_count": 3,
   "id": "0d681ff7",
   "metadata": {},
   "outputs": [],
   "source": [
    "train_data = datasets.MNIST(root='data', train=True, transform=ToTensor(), download=True)\n",
    "test_data = datasets.MNIST(root='data', train=False, transform=ToTensor(), download=True)"
   ]
  },
  {
   "cell_type": "code",
   "execution_count": 4,
   "id": "998e2a61",
   "metadata": {},
   "outputs": [
    {
     "data": {
      "text/plain": [
       "torch.Size([60000, 28, 28])"
      ]
     },
     "execution_count": 4,
     "metadata": {},
     "output_type": "execute_result"
    }
   ],
   "source": [
    "train_data.data.size()"
   ]
  },
  {
   "cell_type": "code",
   "execution_count": 5,
   "id": "3da5903b",
   "metadata": {},
   "outputs": [
    {
     "data": {
      "text/plain": [
       "torch.Size([10000, 28, 28])"
      ]
     },
     "execution_count": 5,
     "metadata": {},
     "output_type": "execute_result"
    }
   ],
   "source": [
    "test_data.data.size()"
   ]
  },
  {
   "cell_type": "code",
   "execution_count": 6,
   "id": "8a0d594b",
   "metadata": {},
   "outputs": [],
   "source": [
    "train_dl = DataLoader(train_data, batch_size=500, shuffle=True, num_workers=1)\n",
    "test_dl = DataLoader(test_data, batch_size=500, shuffle=True, num_workers=1)"
   ]
  },
  {
   "cell_type": "code",
   "execution_count": 7,
   "id": "4acf1aa9",
   "metadata": {},
   "outputs": [
    {
     "data": {
      "text/plain": [
       "ResNet(\n",
       "  (conv1): Conv2d(3, 64, kernel_size=(7, 7), stride=(2, 2), padding=(3, 3), bias=False)\n",
       "  (bn1): BatchNorm2d(64, eps=1e-05, momentum=0.1, affine=True, track_running_stats=True)\n",
       "  (relu): ReLU(inplace=True)\n",
       "  (maxpool): MaxPool2d(kernel_size=3, stride=2, padding=1, dilation=1, ceil_mode=False)\n",
       "  (layer1): Sequential(\n",
       "    (0): Bottleneck(\n",
       "      (conv1): Conv2d(64, 64, kernel_size=(1, 1), stride=(1, 1), bias=False)\n",
       "      (bn1): BatchNorm2d(64, eps=1e-05, momentum=0.1, affine=True, track_running_stats=True)\n",
       "      (conv2): Conv2d(64, 64, kernel_size=(3, 3), stride=(1, 1), padding=(1, 1), bias=False)\n",
       "      (bn2): BatchNorm2d(64, eps=1e-05, momentum=0.1, affine=True, track_running_stats=True)\n",
       "      (conv3): Conv2d(64, 256, kernel_size=(1, 1), stride=(1, 1), bias=False)\n",
       "      (bn3): BatchNorm2d(256, eps=1e-05, momentum=0.1, affine=True, track_running_stats=True)\n",
       "      (relu): ReLU(inplace=True)\n",
       "      (downsample): Sequential(\n",
       "        (0): Conv2d(64, 256, kernel_size=(1, 1), stride=(1, 1), bias=False)\n",
       "        (1): BatchNorm2d(256, eps=1e-05, momentum=0.1, affine=True, track_running_stats=True)\n",
       "      )\n",
       "    )\n",
       "    (1): Bottleneck(\n",
       "      (conv1): Conv2d(256, 64, kernel_size=(1, 1), stride=(1, 1), bias=False)\n",
       "      (bn1): BatchNorm2d(64, eps=1e-05, momentum=0.1, affine=True, track_running_stats=True)\n",
       "      (conv2): Conv2d(64, 64, kernel_size=(3, 3), stride=(1, 1), padding=(1, 1), bias=False)\n",
       "      (bn2): BatchNorm2d(64, eps=1e-05, momentum=0.1, affine=True, track_running_stats=True)\n",
       "      (conv3): Conv2d(64, 256, kernel_size=(1, 1), stride=(1, 1), bias=False)\n",
       "      (bn3): BatchNorm2d(256, eps=1e-05, momentum=0.1, affine=True, track_running_stats=True)\n",
       "      (relu): ReLU(inplace=True)\n",
       "    )\n",
       "    (2): Bottleneck(\n",
       "      (conv1): Conv2d(256, 64, kernel_size=(1, 1), stride=(1, 1), bias=False)\n",
       "      (bn1): BatchNorm2d(64, eps=1e-05, momentum=0.1, affine=True, track_running_stats=True)\n",
       "      (conv2): Conv2d(64, 64, kernel_size=(3, 3), stride=(1, 1), padding=(1, 1), bias=False)\n",
       "      (bn2): BatchNorm2d(64, eps=1e-05, momentum=0.1, affine=True, track_running_stats=True)\n",
       "      (conv3): Conv2d(64, 256, kernel_size=(1, 1), stride=(1, 1), bias=False)\n",
       "      (bn3): BatchNorm2d(256, eps=1e-05, momentum=0.1, affine=True, track_running_stats=True)\n",
       "      (relu): ReLU(inplace=True)\n",
       "    )\n",
       "  )\n",
       "  (layer2): Sequential(\n",
       "    (0): Bottleneck(\n",
       "      (conv1): Conv2d(256, 128, kernel_size=(1, 1), stride=(1, 1), bias=False)\n",
       "      (bn1): BatchNorm2d(128, eps=1e-05, momentum=0.1, affine=True, track_running_stats=True)\n",
       "      (conv2): Conv2d(128, 128, kernel_size=(3, 3), stride=(2, 2), padding=(1, 1), bias=False)\n",
       "      (bn2): BatchNorm2d(128, eps=1e-05, momentum=0.1, affine=True, track_running_stats=True)\n",
       "      (conv3): Conv2d(128, 512, kernel_size=(1, 1), stride=(1, 1), bias=False)\n",
       "      (bn3): BatchNorm2d(512, eps=1e-05, momentum=0.1, affine=True, track_running_stats=True)\n",
       "      (relu): ReLU(inplace=True)\n",
       "      (downsample): Sequential(\n",
       "        (0): Conv2d(256, 512, kernel_size=(1, 1), stride=(2, 2), bias=False)\n",
       "        (1): BatchNorm2d(512, eps=1e-05, momentum=0.1, affine=True, track_running_stats=True)\n",
       "      )\n",
       "    )\n",
       "    (1): Bottleneck(\n",
       "      (conv1): Conv2d(512, 128, kernel_size=(1, 1), stride=(1, 1), bias=False)\n",
       "      (bn1): BatchNorm2d(128, eps=1e-05, momentum=0.1, affine=True, track_running_stats=True)\n",
       "      (conv2): Conv2d(128, 128, kernel_size=(3, 3), stride=(1, 1), padding=(1, 1), bias=False)\n",
       "      (bn2): BatchNorm2d(128, eps=1e-05, momentum=0.1, affine=True, track_running_stats=True)\n",
       "      (conv3): Conv2d(128, 512, kernel_size=(1, 1), stride=(1, 1), bias=False)\n",
       "      (bn3): BatchNorm2d(512, eps=1e-05, momentum=0.1, affine=True, track_running_stats=True)\n",
       "      (relu): ReLU(inplace=True)\n",
       "    )\n",
       "    (2): Bottleneck(\n",
       "      (conv1): Conv2d(512, 128, kernel_size=(1, 1), stride=(1, 1), bias=False)\n",
       "      (bn1): BatchNorm2d(128, eps=1e-05, momentum=0.1, affine=True, track_running_stats=True)\n",
       "      (conv2): Conv2d(128, 128, kernel_size=(3, 3), stride=(1, 1), padding=(1, 1), bias=False)\n",
       "      (bn2): BatchNorm2d(128, eps=1e-05, momentum=0.1, affine=True, track_running_stats=True)\n",
       "      (conv3): Conv2d(128, 512, kernel_size=(1, 1), stride=(1, 1), bias=False)\n",
       "      (bn3): BatchNorm2d(512, eps=1e-05, momentum=0.1, affine=True, track_running_stats=True)\n",
       "      (relu): ReLU(inplace=True)\n",
       "    )\n",
       "    (3): Bottleneck(\n",
       "      (conv1): Conv2d(512, 128, kernel_size=(1, 1), stride=(1, 1), bias=False)\n",
       "      (bn1): BatchNorm2d(128, eps=1e-05, momentum=0.1, affine=True, track_running_stats=True)\n",
       "      (conv2): Conv2d(128, 128, kernel_size=(3, 3), stride=(1, 1), padding=(1, 1), bias=False)\n",
       "      (bn2): BatchNorm2d(128, eps=1e-05, momentum=0.1, affine=True, track_running_stats=True)\n",
       "      (conv3): Conv2d(128, 512, kernel_size=(1, 1), stride=(1, 1), bias=False)\n",
       "      (bn3): BatchNorm2d(512, eps=1e-05, momentum=0.1, affine=True, track_running_stats=True)\n",
       "      (relu): ReLU(inplace=True)\n",
       "    )\n",
       "  )\n",
       "  (layer3): Sequential(\n",
       "    (0): Bottleneck(\n",
       "      (conv1): Conv2d(512, 256, kernel_size=(1, 1), stride=(1, 1), bias=False)\n",
       "      (bn1): BatchNorm2d(256, eps=1e-05, momentum=0.1, affine=True, track_running_stats=True)\n",
       "      (conv2): Conv2d(256, 256, kernel_size=(3, 3), stride=(2, 2), padding=(1, 1), bias=False)\n",
       "      (bn2): BatchNorm2d(256, eps=1e-05, momentum=0.1, affine=True, track_running_stats=True)\n",
       "      (conv3): Conv2d(256, 1024, kernel_size=(1, 1), stride=(1, 1), bias=False)\n",
       "      (bn3): BatchNorm2d(1024, eps=1e-05, momentum=0.1, affine=True, track_running_stats=True)\n",
       "      (relu): ReLU(inplace=True)\n",
       "      (downsample): Sequential(\n",
       "        (0): Conv2d(512, 1024, kernel_size=(1, 1), stride=(2, 2), bias=False)\n",
       "        (1): BatchNorm2d(1024, eps=1e-05, momentum=0.1, affine=True, track_running_stats=True)\n",
       "      )\n",
       "    )\n",
       "    (1): Bottleneck(\n",
       "      (conv1): Conv2d(1024, 256, kernel_size=(1, 1), stride=(1, 1), bias=False)\n",
       "      (bn1): BatchNorm2d(256, eps=1e-05, momentum=0.1, affine=True, track_running_stats=True)\n",
       "      (conv2): Conv2d(256, 256, kernel_size=(3, 3), stride=(1, 1), padding=(1, 1), bias=False)\n",
       "      (bn2): BatchNorm2d(256, eps=1e-05, momentum=0.1, affine=True, track_running_stats=True)\n",
       "      (conv3): Conv2d(256, 1024, kernel_size=(1, 1), stride=(1, 1), bias=False)\n",
       "      (bn3): BatchNorm2d(1024, eps=1e-05, momentum=0.1, affine=True, track_running_stats=True)\n",
       "      (relu): ReLU(inplace=True)\n",
       "    )\n",
       "    (2): Bottleneck(\n",
       "      (conv1): Conv2d(1024, 256, kernel_size=(1, 1), stride=(1, 1), bias=False)\n",
       "      (bn1): BatchNorm2d(256, eps=1e-05, momentum=0.1, affine=True, track_running_stats=True)\n",
       "      (conv2): Conv2d(256, 256, kernel_size=(3, 3), stride=(1, 1), padding=(1, 1), bias=False)\n",
       "      (bn2): BatchNorm2d(256, eps=1e-05, momentum=0.1, affine=True, track_running_stats=True)\n",
       "      (conv3): Conv2d(256, 1024, kernel_size=(1, 1), stride=(1, 1), bias=False)\n",
       "      (bn3): BatchNorm2d(1024, eps=1e-05, momentum=0.1, affine=True, track_running_stats=True)\n",
       "      (relu): ReLU(inplace=True)\n",
       "    )\n",
       "    (3): Bottleneck(\n",
       "      (conv1): Conv2d(1024, 256, kernel_size=(1, 1), stride=(1, 1), bias=False)\n",
       "      (bn1): BatchNorm2d(256, eps=1e-05, momentum=0.1, affine=True, track_running_stats=True)\n",
       "      (conv2): Conv2d(256, 256, kernel_size=(3, 3), stride=(1, 1), padding=(1, 1), bias=False)\n",
       "      (bn2): BatchNorm2d(256, eps=1e-05, momentum=0.1, affine=True, track_running_stats=True)\n",
       "      (conv3): Conv2d(256, 1024, kernel_size=(1, 1), stride=(1, 1), bias=False)\n",
       "      (bn3): BatchNorm2d(1024, eps=1e-05, momentum=0.1, affine=True, track_running_stats=True)\n",
       "      (relu): ReLU(inplace=True)\n",
       "    )\n",
       "    (4): Bottleneck(\n",
       "      (conv1): Conv2d(1024, 256, kernel_size=(1, 1), stride=(1, 1), bias=False)\n",
       "      (bn1): BatchNorm2d(256, eps=1e-05, momentum=0.1, affine=True, track_running_stats=True)\n",
       "      (conv2): Conv2d(256, 256, kernel_size=(3, 3), stride=(1, 1), padding=(1, 1), bias=False)\n",
       "      (bn2): BatchNorm2d(256, eps=1e-05, momentum=0.1, affine=True, track_running_stats=True)\n",
       "      (conv3): Conv2d(256, 1024, kernel_size=(1, 1), stride=(1, 1), bias=False)\n",
       "      (bn3): BatchNorm2d(1024, eps=1e-05, momentum=0.1, affine=True, track_running_stats=True)\n",
       "      (relu): ReLU(inplace=True)\n",
       "    )\n",
       "    (5): Bottleneck(\n",
       "      (conv1): Conv2d(1024, 256, kernel_size=(1, 1), stride=(1, 1), bias=False)\n",
       "      (bn1): BatchNorm2d(256, eps=1e-05, momentum=0.1, affine=True, track_running_stats=True)\n",
       "      (conv2): Conv2d(256, 256, kernel_size=(3, 3), stride=(1, 1), padding=(1, 1), bias=False)\n",
       "      (bn2): BatchNorm2d(256, eps=1e-05, momentum=0.1, affine=True, track_running_stats=True)\n",
       "      (conv3): Conv2d(256, 1024, kernel_size=(1, 1), stride=(1, 1), bias=False)\n",
       "      (bn3): BatchNorm2d(1024, eps=1e-05, momentum=0.1, affine=True, track_running_stats=True)\n",
       "      (relu): ReLU(inplace=True)\n",
       "    )\n",
       "  )\n",
       "  (layer4): Sequential(\n",
       "    (0): Bottleneck(\n",
       "      (conv1): Conv2d(1024, 512, kernel_size=(1, 1), stride=(1, 1), bias=False)\n",
       "      (bn1): BatchNorm2d(512, eps=1e-05, momentum=0.1, affine=True, track_running_stats=True)\n",
       "      (conv2): Conv2d(512, 512, kernel_size=(3, 3), stride=(2, 2), padding=(1, 1), bias=False)\n",
       "      (bn2): BatchNorm2d(512, eps=1e-05, momentum=0.1, affine=True, track_running_stats=True)\n",
       "      (conv3): Conv2d(512, 2048, kernel_size=(1, 1), stride=(1, 1), bias=False)\n",
       "      (bn3): BatchNorm2d(2048, eps=1e-05, momentum=0.1, affine=True, track_running_stats=True)\n",
       "      (relu): ReLU(inplace=True)\n",
       "      (downsample): Sequential(\n",
       "        (0): Conv2d(1024, 2048, kernel_size=(1, 1), stride=(2, 2), bias=False)\n",
       "        (1): BatchNorm2d(2048, eps=1e-05, momentum=0.1, affine=True, track_running_stats=True)\n",
       "      )\n",
       "    )\n",
       "    (1): Bottleneck(\n",
       "      (conv1): Conv2d(2048, 512, kernel_size=(1, 1), stride=(1, 1), bias=False)\n",
       "      (bn1): BatchNorm2d(512, eps=1e-05, momentum=0.1, affine=True, track_running_stats=True)\n",
       "      (conv2): Conv2d(512, 512, kernel_size=(3, 3), stride=(1, 1), padding=(1, 1), bias=False)\n",
       "      (bn2): BatchNorm2d(512, eps=1e-05, momentum=0.1, affine=True, track_running_stats=True)\n",
       "      (conv3): Conv2d(512, 2048, kernel_size=(1, 1), stride=(1, 1), bias=False)\n",
       "      (bn3): BatchNorm2d(2048, eps=1e-05, momentum=0.1, affine=True, track_running_stats=True)\n",
       "      (relu): ReLU(inplace=True)\n",
       "    )\n",
       "    (2): Bottleneck(\n",
       "      (conv1): Conv2d(2048, 512, kernel_size=(1, 1), stride=(1, 1), bias=False)\n",
       "      (bn1): BatchNorm2d(512, eps=1e-05, momentum=0.1, affine=True, track_running_stats=True)\n",
       "      (conv2): Conv2d(512, 512, kernel_size=(3, 3), stride=(1, 1), padding=(1, 1), bias=False)\n",
       "      (bn2): BatchNorm2d(512, eps=1e-05, momentum=0.1, affine=True, track_running_stats=True)\n",
       "      (conv3): Conv2d(512, 2048, kernel_size=(1, 1), stride=(1, 1), bias=False)\n",
       "      (bn3): BatchNorm2d(2048, eps=1e-05, momentum=0.1, affine=True, track_running_stats=True)\n",
       "      (relu): ReLU(inplace=True)\n",
       "    )\n",
       "  )\n",
       "  (avgpool): AdaptiveAvgPool2d(output_size=(1, 1))\n",
       "  (fc): Linear(in_features=2048, out_features=1000, bias=True)\n",
       ")"
      ]
     },
     "execution_count": 7,
     "metadata": {},
     "output_type": "execute_result"
    }
   ],
   "source": [
    "model = torchvision.models.resnet50()\n",
    "model"
   ]
  },
  {
   "cell_type": "code",
   "execution_count": 8,
   "id": "aea6fae4",
   "metadata": {},
   "outputs": [
    {
     "data": {
      "text/plain": [
       "ResNet(\n",
       "  (conv1): Conv2d(1, 64, kernel_size=(7, 7), stride=(2, 2), padding=(3, 3), bias=False)\n",
       "  (bn1): BatchNorm2d(64, eps=1e-05, momentum=0.1, affine=True, track_running_stats=True)\n",
       "  (relu): ReLU(inplace=True)\n",
       "  (maxpool): MaxPool2d(kernel_size=3, stride=2, padding=1, dilation=1, ceil_mode=False)\n",
       "  (layer1): Sequential(\n",
       "    (0): Bottleneck(\n",
       "      (conv1): Conv2d(64, 64, kernel_size=(1, 1), stride=(1, 1), bias=False)\n",
       "      (bn1): BatchNorm2d(64, eps=1e-05, momentum=0.1, affine=True, track_running_stats=True)\n",
       "      (conv2): Conv2d(64, 64, kernel_size=(3, 3), stride=(1, 1), padding=(1, 1), bias=False)\n",
       "      (bn2): BatchNorm2d(64, eps=1e-05, momentum=0.1, affine=True, track_running_stats=True)\n",
       "      (conv3): Conv2d(64, 256, kernel_size=(1, 1), stride=(1, 1), bias=False)\n",
       "      (bn3): BatchNorm2d(256, eps=1e-05, momentum=0.1, affine=True, track_running_stats=True)\n",
       "      (relu): ReLU(inplace=True)\n",
       "      (downsample): Sequential(\n",
       "        (0): Conv2d(64, 256, kernel_size=(1, 1), stride=(1, 1), bias=False)\n",
       "        (1): BatchNorm2d(256, eps=1e-05, momentum=0.1, affine=True, track_running_stats=True)\n",
       "      )\n",
       "    )\n",
       "    (1): Bottleneck(\n",
       "      (conv1): Conv2d(256, 64, kernel_size=(1, 1), stride=(1, 1), bias=False)\n",
       "      (bn1): BatchNorm2d(64, eps=1e-05, momentum=0.1, affine=True, track_running_stats=True)\n",
       "      (conv2): Conv2d(64, 64, kernel_size=(3, 3), stride=(1, 1), padding=(1, 1), bias=False)\n",
       "      (bn2): BatchNorm2d(64, eps=1e-05, momentum=0.1, affine=True, track_running_stats=True)\n",
       "      (conv3): Conv2d(64, 256, kernel_size=(1, 1), stride=(1, 1), bias=False)\n",
       "      (bn3): BatchNorm2d(256, eps=1e-05, momentum=0.1, affine=True, track_running_stats=True)\n",
       "      (relu): ReLU(inplace=True)\n",
       "    )\n",
       "    (2): Bottleneck(\n",
       "      (conv1): Conv2d(256, 64, kernel_size=(1, 1), stride=(1, 1), bias=False)\n",
       "      (bn1): BatchNorm2d(64, eps=1e-05, momentum=0.1, affine=True, track_running_stats=True)\n",
       "      (conv2): Conv2d(64, 64, kernel_size=(3, 3), stride=(1, 1), padding=(1, 1), bias=False)\n",
       "      (bn2): BatchNorm2d(64, eps=1e-05, momentum=0.1, affine=True, track_running_stats=True)\n",
       "      (conv3): Conv2d(64, 256, kernel_size=(1, 1), stride=(1, 1), bias=False)\n",
       "      (bn3): BatchNorm2d(256, eps=1e-05, momentum=0.1, affine=True, track_running_stats=True)\n",
       "      (relu): ReLU(inplace=True)\n",
       "    )\n",
       "  )\n",
       "  (layer2): Sequential(\n",
       "    (0): Bottleneck(\n",
       "      (conv1): Conv2d(256, 128, kernel_size=(1, 1), stride=(1, 1), bias=False)\n",
       "      (bn1): BatchNorm2d(128, eps=1e-05, momentum=0.1, affine=True, track_running_stats=True)\n",
       "      (conv2): Conv2d(128, 128, kernel_size=(3, 3), stride=(2, 2), padding=(1, 1), bias=False)\n",
       "      (bn2): BatchNorm2d(128, eps=1e-05, momentum=0.1, affine=True, track_running_stats=True)\n",
       "      (conv3): Conv2d(128, 512, kernel_size=(1, 1), stride=(1, 1), bias=False)\n",
       "      (bn3): BatchNorm2d(512, eps=1e-05, momentum=0.1, affine=True, track_running_stats=True)\n",
       "      (relu): ReLU(inplace=True)\n",
       "      (downsample): Sequential(\n",
       "        (0): Conv2d(256, 512, kernel_size=(1, 1), stride=(2, 2), bias=False)\n",
       "        (1): BatchNorm2d(512, eps=1e-05, momentum=0.1, affine=True, track_running_stats=True)\n",
       "      )\n",
       "    )\n",
       "    (1): Bottleneck(\n",
       "      (conv1): Conv2d(512, 128, kernel_size=(1, 1), stride=(1, 1), bias=False)\n",
       "      (bn1): BatchNorm2d(128, eps=1e-05, momentum=0.1, affine=True, track_running_stats=True)\n",
       "      (conv2): Conv2d(128, 128, kernel_size=(3, 3), stride=(1, 1), padding=(1, 1), bias=False)\n",
       "      (bn2): BatchNorm2d(128, eps=1e-05, momentum=0.1, affine=True, track_running_stats=True)\n",
       "      (conv3): Conv2d(128, 512, kernel_size=(1, 1), stride=(1, 1), bias=False)\n",
       "      (bn3): BatchNorm2d(512, eps=1e-05, momentum=0.1, affine=True, track_running_stats=True)\n",
       "      (relu): ReLU(inplace=True)\n",
       "    )\n",
       "    (2): Bottleneck(\n",
       "      (conv1): Conv2d(512, 128, kernel_size=(1, 1), stride=(1, 1), bias=False)\n",
       "      (bn1): BatchNorm2d(128, eps=1e-05, momentum=0.1, affine=True, track_running_stats=True)\n",
       "      (conv2): Conv2d(128, 128, kernel_size=(3, 3), stride=(1, 1), padding=(1, 1), bias=False)\n",
       "      (bn2): BatchNorm2d(128, eps=1e-05, momentum=0.1, affine=True, track_running_stats=True)\n",
       "      (conv3): Conv2d(128, 512, kernel_size=(1, 1), stride=(1, 1), bias=False)\n",
       "      (bn3): BatchNorm2d(512, eps=1e-05, momentum=0.1, affine=True, track_running_stats=True)\n",
       "      (relu): ReLU(inplace=True)\n",
       "    )\n",
       "    (3): Bottleneck(\n",
       "      (conv1): Conv2d(512, 128, kernel_size=(1, 1), stride=(1, 1), bias=False)\n",
       "      (bn1): BatchNorm2d(128, eps=1e-05, momentum=0.1, affine=True, track_running_stats=True)\n",
       "      (conv2): Conv2d(128, 128, kernel_size=(3, 3), stride=(1, 1), padding=(1, 1), bias=False)\n",
       "      (bn2): BatchNorm2d(128, eps=1e-05, momentum=0.1, affine=True, track_running_stats=True)\n",
       "      (conv3): Conv2d(128, 512, kernel_size=(1, 1), stride=(1, 1), bias=False)\n",
       "      (bn3): BatchNorm2d(512, eps=1e-05, momentum=0.1, affine=True, track_running_stats=True)\n",
       "      (relu): ReLU(inplace=True)\n",
       "    )\n",
       "  )\n",
       "  (layer3): Sequential(\n",
       "    (0): Bottleneck(\n",
       "      (conv1): Conv2d(512, 256, kernel_size=(1, 1), stride=(1, 1), bias=False)\n",
       "      (bn1): BatchNorm2d(256, eps=1e-05, momentum=0.1, affine=True, track_running_stats=True)\n",
       "      (conv2): Conv2d(256, 256, kernel_size=(3, 3), stride=(2, 2), padding=(1, 1), bias=False)\n",
       "      (bn2): BatchNorm2d(256, eps=1e-05, momentum=0.1, affine=True, track_running_stats=True)\n",
       "      (conv3): Conv2d(256, 1024, kernel_size=(1, 1), stride=(1, 1), bias=False)\n",
       "      (bn3): BatchNorm2d(1024, eps=1e-05, momentum=0.1, affine=True, track_running_stats=True)\n",
       "      (relu): ReLU(inplace=True)\n",
       "      (downsample): Sequential(\n",
       "        (0): Conv2d(512, 1024, kernel_size=(1, 1), stride=(2, 2), bias=False)\n",
       "        (1): BatchNorm2d(1024, eps=1e-05, momentum=0.1, affine=True, track_running_stats=True)\n",
       "      )\n",
       "    )\n",
       "    (1): Bottleneck(\n",
       "      (conv1): Conv2d(1024, 256, kernel_size=(1, 1), stride=(1, 1), bias=False)\n",
       "      (bn1): BatchNorm2d(256, eps=1e-05, momentum=0.1, affine=True, track_running_stats=True)\n",
       "      (conv2): Conv2d(256, 256, kernel_size=(3, 3), stride=(1, 1), padding=(1, 1), bias=False)\n",
       "      (bn2): BatchNorm2d(256, eps=1e-05, momentum=0.1, affine=True, track_running_stats=True)\n",
       "      (conv3): Conv2d(256, 1024, kernel_size=(1, 1), stride=(1, 1), bias=False)\n",
       "      (bn3): BatchNorm2d(1024, eps=1e-05, momentum=0.1, affine=True, track_running_stats=True)\n",
       "      (relu): ReLU(inplace=True)\n",
       "    )\n",
       "    (2): Bottleneck(\n",
       "      (conv1): Conv2d(1024, 256, kernel_size=(1, 1), stride=(1, 1), bias=False)\n",
       "      (bn1): BatchNorm2d(256, eps=1e-05, momentum=0.1, affine=True, track_running_stats=True)\n",
       "      (conv2): Conv2d(256, 256, kernel_size=(3, 3), stride=(1, 1), padding=(1, 1), bias=False)\n",
       "      (bn2): BatchNorm2d(256, eps=1e-05, momentum=0.1, affine=True, track_running_stats=True)\n",
       "      (conv3): Conv2d(256, 1024, kernel_size=(1, 1), stride=(1, 1), bias=False)\n",
       "      (bn3): BatchNorm2d(1024, eps=1e-05, momentum=0.1, affine=True, track_running_stats=True)\n",
       "      (relu): ReLU(inplace=True)\n",
       "    )\n",
       "    (3): Bottleneck(\n",
       "      (conv1): Conv2d(1024, 256, kernel_size=(1, 1), stride=(1, 1), bias=False)\n",
       "      (bn1): BatchNorm2d(256, eps=1e-05, momentum=0.1, affine=True, track_running_stats=True)\n",
       "      (conv2): Conv2d(256, 256, kernel_size=(3, 3), stride=(1, 1), padding=(1, 1), bias=False)\n",
       "      (bn2): BatchNorm2d(256, eps=1e-05, momentum=0.1, affine=True, track_running_stats=True)\n",
       "      (conv3): Conv2d(256, 1024, kernel_size=(1, 1), stride=(1, 1), bias=False)\n",
       "      (bn3): BatchNorm2d(1024, eps=1e-05, momentum=0.1, affine=True, track_running_stats=True)\n",
       "      (relu): ReLU(inplace=True)\n",
       "    )\n",
       "    (4): Bottleneck(\n",
       "      (conv1): Conv2d(1024, 256, kernel_size=(1, 1), stride=(1, 1), bias=False)\n",
       "      (bn1): BatchNorm2d(256, eps=1e-05, momentum=0.1, affine=True, track_running_stats=True)\n",
       "      (conv2): Conv2d(256, 256, kernel_size=(3, 3), stride=(1, 1), padding=(1, 1), bias=False)\n",
       "      (bn2): BatchNorm2d(256, eps=1e-05, momentum=0.1, affine=True, track_running_stats=True)\n",
       "      (conv3): Conv2d(256, 1024, kernel_size=(1, 1), stride=(1, 1), bias=False)\n",
       "      (bn3): BatchNorm2d(1024, eps=1e-05, momentum=0.1, affine=True, track_running_stats=True)\n",
       "      (relu): ReLU(inplace=True)\n",
       "    )\n",
       "    (5): Bottleneck(\n",
       "      (conv1): Conv2d(1024, 256, kernel_size=(1, 1), stride=(1, 1), bias=False)\n",
       "      (bn1): BatchNorm2d(256, eps=1e-05, momentum=0.1, affine=True, track_running_stats=True)\n",
       "      (conv2): Conv2d(256, 256, kernel_size=(3, 3), stride=(1, 1), padding=(1, 1), bias=False)\n",
       "      (bn2): BatchNorm2d(256, eps=1e-05, momentum=0.1, affine=True, track_running_stats=True)\n",
       "      (conv3): Conv2d(256, 1024, kernel_size=(1, 1), stride=(1, 1), bias=False)\n",
       "      (bn3): BatchNorm2d(1024, eps=1e-05, momentum=0.1, affine=True, track_running_stats=True)\n",
       "      (relu): ReLU(inplace=True)\n",
       "    )\n",
       "  )\n",
       "  (layer4): Sequential(\n",
       "    (0): Bottleneck(\n",
       "      (conv1): Conv2d(1024, 512, kernel_size=(1, 1), stride=(1, 1), bias=False)\n",
       "      (bn1): BatchNorm2d(512, eps=1e-05, momentum=0.1, affine=True, track_running_stats=True)\n",
       "      (conv2): Conv2d(512, 512, kernel_size=(3, 3), stride=(2, 2), padding=(1, 1), bias=False)\n",
       "      (bn2): BatchNorm2d(512, eps=1e-05, momentum=0.1, affine=True, track_running_stats=True)\n",
       "      (conv3): Conv2d(512, 2048, kernel_size=(1, 1), stride=(1, 1), bias=False)\n",
       "      (bn3): BatchNorm2d(2048, eps=1e-05, momentum=0.1, affine=True, track_running_stats=True)\n",
       "      (relu): ReLU(inplace=True)\n",
       "      (downsample): Sequential(\n",
       "        (0): Conv2d(1024, 2048, kernel_size=(1, 1), stride=(2, 2), bias=False)\n",
       "        (1): BatchNorm2d(2048, eps=1e-05, momentum=0.1, affine=True, track_running_stats=True)\n",
       "      )\n",
       "    )\n",
       "    (1): Bottleneck(\n",
       "      (conv1): Conv2d(2048, 512, kernel_size=(1, 1), stride=(1, 1), bias=False)\n",
       "      (bn1): BatchNorm2d(512, eps=1e-05, momentum=0.1, affine=True, track_running_stats=True)\n",
       "      (conv2): Conv2d(512, 512, kernel_size=(3, 3), stride=(1, 1), padding=(1, 1), bias=False)\n",
       "      (bn2): BatchNorm2d(512, eps=1e-05, momentum=0.1, affine=True, track_running_stats=True)\n",
       "      (conv3): Conv2d(512, 2048, kernel_size=(1, 1), stride=(1, 1), bias=False)\n",
       "      (bn3): BatchNorm2d(2048, eps=1e-05, momentum=0.1, affine=True, track_running_stats=True)\n",
       "      (relu): ReLU(inplace=True)\n",
       "    )\n",
       "    (2): Bottleneck(\n",
       "      (conv1): Conv2d(2048, 512, kernel_size=(1, 1), stride=(1, 1), bias=False)\n",
       "      (bn1): BatchNorm2d(512, eps=1e-05, momentum=0.1, affine=True, track_running_stats=True)\n",
       "      (conv2): Conv2d(512, 512, kernel_size=(3, 3), stride=(1, 1), padding=(1, 1), bias=False)\n",
       "      (bn2): BatchNorm2d(512, eps=1e-05, momentum=0.1, affine=True, track_running_stats=True)\n",
       "      (conv3): Conv2d(512, 2048, kernel_size=(1, 1), stride=(1, 1), bias=False)\n",
       "      (bn3): BatchNorm2d(2048, eps=1e-05, momentum=0.1, affine=True, track_running_stats=True)\n",
       "      (relu): ReLU(inplace=True)\n",
       "    )\n",
       "  )\n",
       "  (avgpool): AdaptiveAvgPool2d(output_size=(1, 1))\n",
       "  (fc): Linear(in_features=2048, out_features=10, bias=True)\n",
       ")"
      ]
     },
     "execution_count": 8,
     "metadata": {},
     "output_type": "execute_result"
    }
   ],
   "source": [
    "model.conv1 = nn.Conv2d(1, 64, kernel_size=(7, 7), stride=(2, 2), padding=(3, 3), bias=False)\n",
    "model.fc = nn.Linear(2048, 10, bias=True)\n",
    "model"
   ]
  },
  {
   "cell_type": "code",
   "execution_count": 9,
   "id": "7d564e83",
   "metadata": {},
   "outputs": [],
   "source": [
    "loss = nn.CrossEntropyLoss()\n",
    "optimization = optim.SGD(model.parameters(), lr=0.01)\n",
    "if(torch.cuda.is_available()):\n",
    "    model = model.cuda()"
   ]
  },
  {
   "cell_type": "code",
   "execution_count": 10,
   "id": "cd2b8d83",
   "metadata": {},
   "outputs": [],
   "source": [
    "from torch.autograd import Variable\n",
    "\n",
    "def train(epochs, model, train_dl):\n",
    "    total_steps=train_data.data.size()[0]\n",
    "    model.train()\n",
    "    \n",
    "    for epoch in range(epochs+1):\n",
    "        for i, (images, labels) in enumerate(train_dl):\n",
    "            images_x, labels_x = images.to(device), labels.to(device)\n",
    "            output = model(images_x)\n",
    "            loss_value = loss(output, labels_x)\n",
    "            optimization.zero_grad()\n",
    "            loss_value.backward()\n",
    "            optimization.step()\n",
    "            \n",
    "            if i % 100 == 0:\n",
    "                print(\"Epoch: {} / {}, Step: {}/{} Loss: {:.4f}\".format(epoch, epochs, i*len(images), len(train_dl.dataset), loss_value.item()))"
   ]
  },
  {
   "cell_type": "code",
   "execution_count": 11,
   "id": "0bc04638",
   "metadata": {},
   "outputs": [
    {
     "name": "stdout",
     "output_type": "stream",
     "text": [
      "Epoch: 0 / 10, Step: 0/60000 Loss: 2.5538\n",
      "Epoch: 0 / 10, Step: 50000/60000 Loss: 0.6058\n",
      "Epoch: 1 / 10, Step: 0/60000 Loss: 0.4363\n",
      "Epoch: 1 / 10, Step: 50000/60000 Loss: 0.2516\n",
      "Epoch: 2 / 10, Step: 0/60000 Loss: 0.1870\n",
      "Epoch: 2 / 10, Step: 50000/60000 Loss: 0.1698\n",
      "Epoch: 3 / 10, Step: 0/60000 Loss: 0.0903\n",
      "Epoch: 3 / 10, Step: 50000/60000 Loss: 0.1218\n",
      "Epoch: 4 / 10, Step: 0/60000 Loss: 0.0769\n",
      "Epoch: 4 / 10, Step: 50000/60000 Loss: 0.0670\n",
      "Epoch: 5 / 10, Step: 0/60000 Loss: 0.0332\n",
      "Epoch: 5 / 10, Step: 50000/60000 Loss: 0.0478\n",
      "Epoch: 6 / 10, Step: 0/60000 Loss: 0.0239\n",
      "Epoch: 6 / 10, Step: 50000/60000 Loss: 0.0293\n",
      "Epoch: 7 / 10, Step: 0/60000 Loss: 0.0109\n",
      "Epoch: 7 / 10, Step: 50000/60000 Loss: 0.0087\n",
      "Epoch: 8 / 10, Step: 0/60000 Loss: 0.0072\n",
      "Epoch: 8 / 10, Step: 50000/60000 Loss: 0.0056\n",
      "Epoch: 9 / 10, Step: 0/60000 Loss: 0.0044\n",
      "Epoch: 9 / 10, Step: 50000/60000 Loss: 0.0048\n",
      "Epoch: 10 / 10, Step: 0/60000 Loss: 0.0027\n",
      "Epoch: 10 / 10, Step: 50000/60000 Loss: 0.0030\n"
     ]
    }
   ],
   "source": [
    "train(10, model, train_dl)"
   ]
  },
  {
   "cell_type": "code",
   "execution_count": 12,
   "id": "77d2d4c7",
   "metadata": {},
   "outputs": [
    {
     "name": "stdout",
     "output_type": "stream",
     "text": [
      "CNN(\n",
      "  (cnn1): Sequential(\n",
      "    (0): Conv2d(1, 16, kernel_size=(5, 5), stride=(1, 1), padding=(2, 2))\n",
      "    (1): ReLU()\n",
      "    (2): MaxPool2d(kernel_size=2, stride=2, padding=0, dilation=1, ceil_mode=False)\n",
      "  )\n",
      "  (cnn2): Sequential(\n",
      "    (0): Conv2d(16, 32, kernel_size=(5, 5), stride=(1, 1), padding=(2, 2))\n",
      "    (1): ReLU()\n",
      "    (2): MaxPool2d(kernel_size=2, stride=2, padding=0, dilation=1, ceil_mode=False)\n",
      "  )\n",
      "  (linear): Linear(in_features=1568, out_features=10, bias=True)\n",
      ")\n"
     ]
    }
   ],
   "source": [
    "class CNN(nn.Module):\n",
    "    def __init__(self):\n",
    "        super(CNN, self).__init__()\n",
    "        self.cnn1 = nn.Sequential(nn.Conv2d(in_channels=1, out_channels=16, kernel_size=5, stride=1, padding=2,), \n",
    "                             nn.ReLU(), nn.MaxPool2d(kernel_size=2))\n",
    "        self.cnn2 = nn.Sequential(nn.Conv2d(in_channels=16, out_channels=32, kernel_size=5, stride=1, padding=2,), \n",
    "                             nn.ReLU(), nn.MaxPool2d(kernel_size=2))\n",
    "        self.linear = nn.Linear(32*7*7, 10)\n",
    "    \n",
    "    def forward(self, x):\n",
    "        x = self.cnn1(x)\n",
    "        x = self.cnn2(x)\n",
    "        x = x.view(x.size(0), -1)\n",
    "        output = self.linear(x)\n",
    "        return output\n",
    "cnn = CNN()\n",
    "print(cnn)"
   ]
  },
  {
   "cell_type": "code",
   "execution_count": 13,
   "id": "029fb1ba",
   "metadata": {},
   "outputs": [
    {
     "name": "stdout",
     "output_type": "stream",
     "text": [
      "1.0\n"
     ]
    }
   ],
   "source": [
    "model.eval()\n",
    "\n",
    "with torch.no_grad():\n",
    "    correct = 0\n",
    "    total = 0\n",
    "    for i, (images, labels) in enumerate(train_dl):\n",
    "        train_output = model(images.to(device))\n",
    "        pred_y = torch.max(train_output, 1)[1].data.squeeze()\n",
    "        accuracy = (pred_y == labels.to(device)).sum().item() / float(labels.size(0))\n",
    "print(accuracy)"
   ]
  },
  {
   "cell_type": "code",
   "execution_count": 14,
   "id": "4be7a864",
   "metadata": {},
   "outputs": [
    {
     "name": "stdout",
     "output_type": "stream",
     "text": [
      "0.966\n"
     ]
    }
   ],
   "source": [
    "model.eval()\n",
    "all_labels = []\n",
    "preds = []\n",
    "with torch.no_grad():\n",
    "    correct = 0\n",
    "    total = 0\n",
    "    for i, (images, labels) in enumerate(test_dl):\n",
    "        test_output = model(images.to(device))\n",
    "        pred_y = torch.max(test_output, 1)[1].data.squeeze()\n",
    "        all_labels.extend(labels)\n",
    "        preds.extend(pred_y)\n",
    "        accuracy = (pred_y == labels.to(device)).sum().item() / float(labels.size(0))\n",
    "print(accuracy)"
   ]
  },
  {
   "cell_type": "code",
   "execution_count": 15,
   "id": "939dbf94",
   "metadata": {},
   "outputs": [
    {
     "data": {
      "text/plain": [
       "<AxesSubplot:>"
      ]
     },
     "execution_count": 15,
     "metadata": {},
     "output_type": "execute_result"
    },
    {
     "data": {
      "image/png": "[encoded data removed]",
      "text/plain": [
       "<Figure size 864x504 with 2 Axes>"
      ]
     },
     "metadata": {
      "needs_background": "light"
     },
     "output_type": "display_data"
    }
   ],
   "source": [
    "classes =('0', '1', '2', '3', '4', '5', '6', '7', '8', '9')\n",
    "all_labels = torch.tensor(all_labels, device = 'cpu')\n",
    "preds = torch.tensor(preds, device = 'cpu')\n",
    "cf_matrix = confusion_matrix(all_labels, preds)\n",
    "df_cm = pd.DataFrame(cf_matrix/np.sum(cf_matrix) *10, index = [i for i in classes],\n",
    "                     columns = [i for i in classes])\n",
    "plt.figure(figsize = (12,7))\n",
    "sn.heatmap(df_cm, annot=True)"
   ]
  },
  {
   "cell_type": "code",
   "execution_count": 16,
   "id": "d322a703",
   "metadata": {},
   "outputs": [
    {
     "data": {
      "text/plain": [
       "torch.Size([60000, 1, 56, 56])"
      ]
     },
     "execution_count": 16,
     "metadata": {},
     "output_type": "execute_result"
    }
   ],
   "source": [
    "import numpy as np\n",
    "from mlxtend.data import loadlocal_mnist\n",
    "import random\n",
    "import cv2\n",
    "import os\n",
    "\n",
    "X, y_train = loadlocal_mnist(images_path='data/MNIST/raw/train-images-idx3-ubyte', labels_path='data/MNIST/raw/train-labels-idx1-ubyte')\n",
    "\n",
    "if not os.path.isdir('data_56'):\n",
    "    os.mkdir('data_56')\n",
    "if not os.path.isdir('data_56/train'):\n",
    "    os.mkdir('data_56/train')\n",
    "for j in np.unique(y_train):\n",
    "    if not os.path.isdir('data_56/train/'+str(j)):\n",
    "        os.mkdir('data_56/train/'+str(j))\n",
    "X_56_train = []\n",
    "for i, image in enumerate(X):\n",
    "    row = random.randint(0,27)\n",
    "    col = random.randint(0,27)\n",
    "    src = np.array(image)\n",
    "    image = np.reshape(image, (28, 28))\n",
    "    blank_image = np.zeros((56, 56), np.uint8)\n",
    "    blank_image[row: row+28, col:col+28] = image\n",
    "    X_56_train.append(blank_image.reshape(1, 56, 56))\n",
    "    #cv2.imwrite('data_56/train/'+str(y_train[i])+'/'+str(i)+'.jpg', blank_image)\n",
    "X_56_train = torch.Tensor(np.asarray(X_56_train))\n",
    "y_train = torch.Tensor(y_train).type(torch.LongTensor)\n",
    "X_56_train.size()"
   ]
  },
  {
   "cell_type": "code",
   "execution_count": 17,
   "id": "48aa0326",
   "metadata": {},
   "outputs": [],
   "source": [
    "X, y_test = loadlocal_mnist(images_path='data/MNIST/raw/t10k-images-idx3-ubyte', labels_path='data/MNIST/raw/t10k-labels-idx1-ubyte')\n",
    "\n",
    "if not os.path.isdir('data_56/test'):\n",
    "    os.mkdir('data_56/test')\n",
    "for j in np.unique(y_test):\n",
    "    if not os.path.isdir('data_56/test/'+str(j)):\n",
    "        os.mkdir('data_56/test/'+str(j))\n",
    "X_56_test = []\n",
    "for i, image in enumerate(X):\n",
    "    row = random.randint(0,27)\n",
    "    col = random.randint(0,27)\n",
    "    src = np.array(image)\n",
    "    image = np.reshape(image, (28, 28, 1))\n",
    "    blank_image = np.zeros((56, 56, 1), np.uint8)\n",
    "    blank_image[row: row+28, col:col+28] = image\n",
    "    X_56_test.append(blank_image.reshape(1, 56, 56))\n",
    "    #cv2.imwrite('data_56/test/'+str(y_test[i])+'/'+str(i)+'.jpg', blank_image)\n",
    "X_56_test = torch.Tensor(np.asarray(X_56_test))\n",
    "y_test = torch.Tensor(y_test).type(torch.LongTensor)"
   ]
  },
  {
   "cell_type": "code",
   "execution_count": 18,
   "id": "45258876",
   "metadata": {},
   "outputs": [],
   "source": [
    "train_data_56 = TensorDataset(X_56_train, y_train)\n",
    "test_data_56 = TensorDataset(X_56_test, y_test)"
   ]
  },
  {
   "cell_type": "code",
   "execution_count": 19,
   "id": "af95e1ec",
   "metadata": {},
   "outputs": [],
   "source": [
    "train_56_dl = DataLoader(train_data_56, batch_size=100, shuffle=True, num_workers=1)\n",
    "test_56_dl = DataLoader(test_data_56, batch_size=100, shuffle=True, num_workers=1)"
   ]
  },
  {
   "cell_type": "code",
   "execution_count": null,
   "id": "0fae615d",
   "metadata": {},
   "outputs": [],
   "source": [
    "import torch.nn as nn\n",
    "\n",
    "class CNN56(nn.Module):\n",
    "    def __init__(self):\n",
    "        super(CNN56, self).__init__()\n",
    "        self.cnn1 = nn.Sequential(nn.Conv2d(in_channels=1, out_channels=16, kernel_size=5, stride=1, padding=2,), \n",
    "                             nn.ReLU(), nn.MaxPool2d(kernel_size=2))\n",
    "        self.cnn2 = nn.Sequential(nn.Conv2d(in_channels=16, out_channels=32, kernel_size=5, stride=1, padding=2,), \n",
    "                             nn.ReLU(), nn.MaxPool2d(kernel_size=2))\n",
    "        self.linear = nn.Linear(32*14*14, 10)\n",
    "    \n",
    "    def forward(self, x):\n",
    "        x = self.cnn1(x)\n",
    "        x = self.cnn2(x)\n",
    "        x = x.view(x.size(0), -1)\n",
    "        output = self.linear(x)\n",
    "        return output\n",
    "cnn56 = CNN56()\n",
    "print(cnn56)"
   ]
  },
  {
   "cell_type": "code",
   "execution_count": 20,
   "id": "95a9ac60",
   "metadata": {},
   "outputs": [],
   "source": [
    "for layer in model.children():\n",
    "    if hasattr(layer, 'reset_parameters'):\n",
    "        layer.reset_parameters()"
   ]
  },
  {
   "cell_type": "code",
   "execution_count": 21,
   "id": "a15867a4",
   "metadata": {},
   "outputs": [
    {
     "name": "stdout",
     "output_type": "stream",
     "text": [
      "Epoch: 0 / 10, Step: 0/60000 Loss: 2.4071\n",
      "Epoch: 0 / 10, Step: 10000/60000 Loss: 1.8796\n",
      "Epoch: 0 / 10, Step: 20000/60000 Loss: 1.9000\n",
      "Epoch: 0 / 10, Step: 30000/60000 Loss: 1.4178\n",
      "Epoch: 0 / 10, Step: 40000/60000 Loss: 0.6713\n",
      "Epoch: 0 / 10, Step: 50000/60000 Loss: 0.5793\n",
      "Epoch: 1 / 10, Step: 0/60000 Loss: 0.4107\n",
      "Epoch: 1 / 10, Step: 10000/60000 Loss: 0.2699\n",
      "Epoch: 1 / 10, Step: 20000/60000 Loss: 0.1455\n",
      "Epoch: 1 / 10, Step: 30000/60000 Loss: 0.2793\n",
      "Epoch: 1 / 10, Step: 40000/60000 Loss: 0.0615\n",
      "Epoch: 1 / 10, Step: 50000/60000 Loss: 0.1555\n",
      "Epoch: 2 / 10, Step: 0/60000 Loss: 0.0750\n",
      "Epoch: 2 / 10, Step: 10000/60000 Loss: 0.2496\n",
      "Epoch: 2 / 10, Step: 20000/60000 Loss: 0.1312\n",
      "Epoch: 2 / 10, Step: 30000/60000 Loss: 0.0515\n",
      "Epoch: 2 / 10, Step: 40000/60000 Loss: 0.1131\n",
      "Epoch: 2 / 10, Step: 50000/60000 Loss: 0.1158\n",
      "Epoch: 3 / 10, Step: 0/60000 Loss: 0.0866\n",
      "Epoch: 3 / 10, Step: 10000/60000 Loss: 0.0768\n",
      "Epoch: 3 / 10, Step: 20000/60000 Loss: 0.1089\n",
      "Epoch: 3 / 10, Step: 30000/60000 Loss: 0.0830\n",
      "Epoch: 3 / 10, Step: 40000/60000 Loss: 0.0795\n",
      "Epoch: 3 / 10, Step: 50000/60000 Loss: 0.0788\n",
      "Epoch: 4 / 10, Step: 0/60000 Loss: 0.0178\n",
      "Epoch: 4 / 10, Step: 10000/60000 Loss: 0.0203\n",
      "Epoch: 4 / 10, Step: 20000/60000 Loss: 0.0383\n",
      "Epoch: 4 / 10, Step: 30000/60000 Loss: 0.0147\n",
      "Epoch: 4 / 10, Step: 40000/60000 Loss: 0.0447\n",
      "Epoch: 4 / 10, Step: 50000/60000 Loss: 0.0165\n",
      "Epoch: 5 / 10, Step: 0/60000 Loss: 0.0094\n",
      "Epoch: 5 / 10, Step: 10000/60000 Loss: 0.0110\n",
      "Epoch: 5 / 10, Step: 20000/60000 Loss: 0.0173\n",
      "Epoch: 5 / 10, Step: 30000/60000 Loss: 0.0464\n",
      "Epoch: 5 / 10, Step: 40000/60000 Loss: 0.0614\n",
      "Epoch: 5 / 10, Step: 50000/60000 Loss: 0.0096\n",
      "Epoch: 6 / 10, Step: 0/60000 Loss: 0.0132\n",
      "Epoch: 6 / 10, Step: 10000/60000 Loss: 0.0184\n",
      "Epoch: 6 / 10, Step: 20000/60000 Loss: 0.0059\n",
      "Epoch: 6 / 10, Step: 30000/60000 Loss: 0.0099\n",
      "Epoch: 6 / 10, Step: 40000/60000 Loss: 0.0068\n",
      "Epoch: 6 / 10, Step: 50000/60000 Loss: 0.0043\n",
      "Epoch: 7 / 10, Step: 0/60000 Loss: 0.0027\n",
      "Epoch: 7 / 10, Step: 10000/60000 Loss: 0.0033\n",
      "Epoch: 7 / 10, Step: 20000/60000 Loss: 0.0194\n",
      "Epoch: 7 / 10, Step: 30000/60000 Loss: 0.0042\n",
      "Epoch: 7 / 10, Step: 40000/60000 Loss: 0.0053\n",
      "Epoch: 7 / 10, Step: 50000/60000 Loss: 0.0248\n",
      "Epoch: 8 / 10, Step: 0/60000 Loss: 0.0031\n",
      "Epoch: 8 / 10, Step: 10000/60000 Loss: 0.0024\n",
      "Epoch: 8 / 10, Step: 20000/60000 Loss: 0.0022\n",
      "Epoch: 8 / 10, Step: 30000/60000 Loss: 0.0081\n",
      "Epoch: 8 / 10, Step: 40000/60000 Loss: 0.0015\n",
      "Epoch: 8 / 10, Step: 50000/60000 Loss: 0.0035\n",
      "Epoch: 9 / 10, Step: 0/60000 Loss: 0.0033\n",
      "Epoch: 9 / 10, Step: 10000/60000 Loss: 0.0149\n",
      "Epoch: 9 / 10, Step: 20000/60000 Loss: 0.0017\n",
      "Epoch: 9 / 10, Step: 30000/60000 Loss: 0.0018\n",
      "Epoch: 9 / 10, Step: 40000/60000 Loss: 0.0051\n",
      "Epoch: 9 / 10, Step: 50000/60000 Loss: 0.0009\n",
      "Epoch: 10 / 10, Step: 0/60000 Loss: 0.0027\n",
      "Epoch: 10 / 10, Step: 10000/60000 Loss: 0.0074\n",
      "Epoch: 10 / 10, Step: 20000/60000 Loss: 0.0040\n",
      "Epoch: 10 / 10, Step: 30000/60000 Loss: 0.0011\n",
      "Epoch: 10 / 10, Step: 40000/60000 Loss: 0.0041\n",
      "Epoch: 10 / 10, Step: 50000/60000 Loss: 0.0011\n"
     ]
    }
   ],
   "source": [
    "train(10, model, train_56_dl)"
   ]
  },
  {
   "cell_type": "code",
   "execution_count": 22,
   "id": "a4204ed6",
   "metadata": {},
   "outputs": [
    {
     "name": "stdout",
     "output_type": "stream",
     "text": [
      "1.0\n"
     ]
    }
   ],
   "source": [
    "model.eval()\n",
    "\n",
    "with torch.no_grad():\n",
    "    correct = 0\n",
    "    total = 0\n",
    "    for i, (images, labels) in enumerate(train_56_dl):\n",
    "        train_output = model(images.to(device))\n",
    "        pred_y = torch.max(train_output, 1)[1].data.squeeze()\n",
    "        accuracy = (pred_y == labels.to(device)).sum().item() / float(labels.size(0))\n",
    "print(accuracy)"
   ]
  },
  {
   "cell_type": "code",
   "execution_count": 25,
   "id": "6fb7c8fe",
   "metadata": {},
   "outputs": [
    {
     "name": "stdout",
     "output_type": "stream",
     "text": [
      "1.0\n"
     ]
    }
   ],
   "source": [
    "model.eval()\n",
    "all_labels = []\n",
    "preds = []\n",
    "with torch.no_grad():\n",
    "    correct = 0\n",
    "    total = 0\n",
    "    for i, (images, labels) in enumerate(test_56_dl):\n",
    "        test_output = model(images.to(device))\n",
    "        pred_y = torch.max(test_output, 1)[1].data.squeeze()\n",
    "        all_labels.extend(labels)\n",
    "        preds.extend(pred_y)\n",
    "        accuracy = (pred_y == labels.to(device)).sum().item() / float(labels.size(0))\n",
    "print(accuracy)"
   ]
  },
  {
   "cell_type": "code",
   "execution_count": 26,
   "id": "5fd94f02",
   "metadata": {},
   "outputs": [
    {
     "data": {
      "text/plain": [
       "<AxesSubplot:>"
      ]
     },
     "execution_count": 26,
     "metadata": {},
     "output_type": "execute_result"
    },
    {
     "data": {
      "image/png": "[encoded data removed]",
      "text/plain": [
       "<Figure size 864x504 with 2 Axes>"
      ]
     },
     "metadata": {
      "needs_background": "light"
     },
     "output_type": "display_data"
    }
   ],
   "source": [
    "classes =('0', '1', '2', '3', '4', '5', '6', '7', '8', '9')\n",
    "all_labels = torch.tensor(all_labels, device = 'cpu')\n",
    "preds = torch.tensor(preds, device = 'cpu')\n",
    "cf_matrix = confusion_matrix(all_labels, preds)\n",
    "df_cm = pd.DataFrame(cf_matrix/np.sum(cf_matrix) *10, index = [i for i in classes],\n",
    "                     columns = [i for i in classes])\n",
    "plt.figure(figsize = (12,7))\n",
    "sn.heatmap(df_cm, annot=True)"
   ]
  },
  {
   "cell_type": "code",
   "execution_count": 27,
   "id": "19938658",
   "metadata": {},
   "outputs": [],
   "source": [
    "from mlxtend.data import loadlocal_mnist\n",
    "import os\n",
    "import numpy as np\n",
    "import random\n",
    "import cv2"
   ]
  },
  {
   "cell_type": "code",
   "execution_count": 28,
   "id": "43e9563c",
   "metadata": {},
   "outputs": [
    {
     "data": {
      "text/plain": [
       "torch.Size([60000, 1, 56, 56])"
      ]
     },
     "execution_count": 28,
     "metadata": {},
     "output_type": "execute_result"
    }
   ],
   "source": [
    "X, y_train = loadlocal_mnist(images_path='data/MNIST/raw/train-images-idx3-ubyte', labels_path='data/MNIST/raw/train-labels-idx1-ubyte')\n",
    "\n",
    "if not os.path.isdir('data_56_top'):\n",
    "    os.mkdir('data_56_top')\n",
    "if not os.path.isdir('data_56_top/train'):\n",
    "    os.mkdir('data_56_top/train')\n",
    "for j in np.unique(y_train):\n",
    "    if not os.path.isdir('data_56_top/train/'+str(j)):\n",
    "        os.mkdir('data_56_top/train/'+str(j))\n",
    "X_56_train = []\n",
    "for i, image in enumerate(X):\n",
    "    col = random.randint(0,27)\n",
    "    src = np.array(image)\n",
    "    image = np.reshape(image, (28, 28))\n",
    "    blank_image = np.zeros((56, 56), np.uint8)\n",
    "    blank_image[0:28, col:col+28] = image\n",
    "    X_56_train.append(blank_image.reshape(1, 56, 56))\n",
    "    #cv2.imwrite('data_56_top/train/'+str(y_train[i])+'/'+str(i)+'.jpg', blank_image)\n",
    "X_56_train = torch.Tensor(np.asarray(X_56_train))\n",
    "y_train = torch.Tensor(y_train).type(torch.LongTensor)\n",
    "X_56_train.size()"
   ]
  },
  {
   "cell_type": "code",
   "execution_count": 29,
   "id": "31e9d319",
   "metadata": {},
   "outputs": [],
   "source": [
    "X, y_test = loadlocal_mnist(images_path='data/MNIST/raw/t10k-images-idx3-ubyte', labels_path='data/MNIST/raw/t10k-labels-idx1-ubyte')\n",
    "\n",
    "if not os.path.isdir('data_56_top/test'):\n",
    "    os.mkdir('data_56_top/test')\n",
    "for j in np.unique(y_test):\n",
    "    if not os.path.isdir('data_56_top/test/'+str(j)):\n",
    "        os.mkdir('data_56_top/test/'+str(j))\n",
    "X_56_test = []\n",
    "for i, image in enumerate(X):\n",
    "    col = random.randint(0,27)\n",
    "    src = np.array(image)\n",
    "    image = np.reshape(image, (28, 28, 1))\n",
    "    blank_image = np.zeros((56, 56, 1), np.uint8)\n",
    "    blank_image[28:57, col:col+28] = image\n",
    "    X_56_test.append(blank_image.reshape(1, 56, 56))\n",
    "    #cv2.imwrite('data_56_top/test/'+str(y_test[i])+'/'+str(i)+'.jpg', blank_image)\n",
    "X_56_test = torch.Tensor(np.asarray(X_56_test))\n",
    "y_test = torch.Tensor(y_test).type(torch.LongTensor)"
   ]
  },
  {
   "cell_type": "code",
   "execution_count": 30,
   "id": "4967721d",
   "metadata": {},
   "outputs": [],
   "source": [
    "train_data_56_top = TensorDataset(X_56_train, y_train)\n",
    "test_data_56_top = TensorDataset(X_56_test, y_test)"
   ]
  },
  {
   "cell_type": "code",
   "execution_count": 31,
   "id": "f2ab904c",
   "metadata": {},
   "outputs": [],
   "source": [
    "train_56_dl_top = DataLoader(train_data_56_top, batch_size=100, shuffle=True, num_workers=1)\n",
    "test_56_dl_top = DataLoader(test_data_56_top, batch_size=100, shuffle=True, num_workers=1)"
   ]
  },
  {
   "cell_type": "code",
   "execution_count": 32,
   "id": "2e1d8c09",
   "metadata": {},
   "outputs": [],
   "source": [
    "for layer in model.children():\n",
    "    if hasattr(layer, 'reset_parameters'):\n",
    "        layer.reset_parameters()"
   ]
  },
  {
   "cell_type": "code",
   "execution_count": 35,
   "id": "aa362ed0",
   "metadata": {},
   "outputs": [
    {
     "name": "stdout",
     "output_type": "stream",
     "text": [
      "Epoch: 0 / 2, Step: 0/60000 Loss: 0.0168\n",
      "Epoch: 0 / 2, Step: 10000/60000 Loss: 0.0031\n",
      "Epoch: 0 / 2, Step: 20000/60000 Loss: 0.0085\n",
      "Epoch: 0 / 2, Step: 30000/60000 Loss: 0.0179\n",
      "Epoch: 0 / 2, Step: 40000/60000 Loss: 0.0141\n",
      "Epoch: 0 / 2, Step: 50000/60000 Loss: 0.0088\n",
      "Epoch: 1 / 2, Step: 0/60000 Loss: 0.0032\n",
      "Epoch: 1 / 2, Step: 10000/60000 Loss: 0.0020\n",
      "Epoch: 1 / 2, Step: 20000/60000 Loss: 0.0052\n",
      "Epoch: 1 / 2, Step: 30000/60000 Loss: 0.0016\n",
      "Epoch: 1 / 2, Step: 40000/60000 Loss: 0.0020\n",
      "Epoch: 1 / 2, Step: 50000/60000 Loss: 0.0038\n",
      "Epoch: 2 / 2, Step: 0/60000 Loss: 0.0036\n",
      "Epoch: 2 / 2, Step: 10000/60000 Loss: 0.0026\n",
      "Epoch: 2 / 2, Step: 20000/60000 Loss: 0.0032\n",
      "Epoch: 2 / 2, Step: 30000/60000 Loss: 0.0019\n",
      "Epoch: 2 / 2, Step: 40000/60000 Loss: 0.0033\n",
      "Epoch: 2 / 2, Step: 50000/60000 Loss: 0.0012\n"
     ]
    }
   ],
   "source": [
    "train(2, model, train_56_dl_top)"
   ]
  },
  {
   "cell_type": "code",
   "execution_count": 36,
   "id": "a6cbca07",
   "metadata": {},
   "outputs": [
    {
     "name": "stdout",
     "output_type": "stream",
     "text": [
      "1.0\n"
     ]
    }
   ],
   "source": [
    "model.eval()\n",
    "\n",
    "with torch.no_grad():\n",
    "    correct = 0\n",
    "    total = 0\n",
    "    for i, (images, labels) in enumerate(train_56_dl_top):\n",
    "        train_output = model(images.to(device))\n",
    "        pred_y = torch.max(train_output, 1)[1].data.squeeze()\n",
    "        accuracy = (pred_y == labels.to(device)).sum().item() / float(labels.size(0))\n",
    "print(accuracy)"
   ]
  },
  {
   "cell_type": "code",
   "execution_count": 46,
   "id": "89568e53",
   "metadata": {},
   "outputs": [
    {
     "name": "stdout",
     "output_type": "stream",
     "text": [
      "0.12\n"
     ]
    }
   ],
   "source": [
    "model.eval()\n",
    "all_labels = []\n",
    "preds = []\n",
    "with torch.no_grad():\n",
    "    correct = 0\n",
    "    total = 0\n",
    "    for i, (images, labels) in enumerate(test_56_dl_top):\n",
    "        test_output = model(images.to(device))\n",
    "        pred_y = torch.max(test_output, 1)[1].data.squeeze()\n",
    "        all_labels.extend(labels)\n",
    "        preds.extend(pred_y)\n",
    "        accuracy = (pred_y == labels.to(device)).sum().item() / float(labels.size(0))\n",
    "print(accuracy)"
   ]
  },
  {
   "cell_type": "code",
   "execution_count": 47,
   "id": "1827640b",
   "metadata": {},
   "outputs": [
    {
     "data": {
      "text/plain": [
       "<AxesSubplot:>"
      ]
     },
     "execution_count": 47,
     "metadata": {},
     "output_type": "execute_result"
    },
    {
     "data": {
      "image/png": "[encoded data removed]",
      "text/plain": [
       "<Figure size 864x504 with 2 Axes>"
      ]
     },
     "metadata": {
      "needs_background": "light"
     },
     "output_type": "display_data"
    }
   ],
   "source": [
    "classes =('0', '1', '2', '3', '4', '5', '6', '7', '8', '9')\n",
    "all_labels = torch.tensor(all_labels, device = 'cpu')\n",
    "preds = torch.tensor(preds, device = 'cpu')\n",
    "cf_matrix = confusion_matrix(all_labels, preds)\n",
    "df_cm = pd.DataFrame(cf_matrix/np.sum(cf_matrix) *10, index = [i for i in classes],\n",
    "                     columns = [i for i in classes])\n",
    "plt.figure(figsize = (12,7))\n",
    "sn.heatmap(df_cm, annot=True)"
   ]
  },
  {
   "cell_type": "code",
   "execution_count": null,
   "id": "59247485",
   "metadata": {},
   "outputs": [],
   "source": [
    "import cv2\n",
    "\n",
    "X, y_train = loadlocal_mnist(images_path='data/MNIST/raw/train-images-idx3-ubyte', labels_path='data/MNIST/raw/train-labels-idx1-ubyte')\n",
    "\n",
    "if not os.path.isdir('data_56_blur'):\n",
    "    os.mkdir('data_56_blur')\n",
    "if not os.path.isdir('data_56_blur/train'):\n",
    "    os.mkdir('data_56_blur/train')\n",
    "for j in np.unique(y_train):\n",
    "    if not os.path.isdir('data_56_blur/train/'+str(j)):\n",
    "        os.mkdir('data_56_blur/train/'+str(j))\n",
    "\n",
    "for i in range(0,10):\n",
    "    path = \"/s/chopin/a/grad/sanket96/Image Computation/data_56/train/\"+str(i)\n",
    "    for j in os.listdir(path):\n",
    "        img = cv2.imread(path+\"/\"+j)\n",
    "        image = cv2.blur(img, (5, 5))\n",
    "        cv2.imwrite(\"/s/chopin/a/grad/sanket96/Image Computation/data_56_blur/train/\"+str(i)+\"/\"+j, image)\n",
    "y_train = torch.Tensor(y_train).type(torch.LongTensor)"
   ]
  },
  {
   "cell_type": "code",
   "execution_count": null,
   "id": "6472dfa7",
   "metadata": {},
   "outputs": [],
   "source": [
    "X, y_test = loadlocal_mnist(images_path='data/MNIST/raw/t10k-images-idx3-ubyte', labels_path='data/MNIST/raw/t10k-labels-idx1-ubyte')\n",
    "\n",
    "if not os.path.isdir('data_56_blur'):\n",
    "    os.mkdir('data_56_blur')\n",
    "if not os.path.isdir('data_56_blur/test'):\n",
    "    os.mkdir('data_56_blur/test')\n",
    "for j in np.unique(y_test):\n",
    "    if not os.path.isdir('data_56_blur/test/'+str(j)):\n",
    "        os.mkdir('data_56_blur/test/'+str(j))\n",
    "\n",
    "for i in range(0,10):\n",
    "    path = \"/s/chopin/a/grad/sanket96/Image Computation/data_56/test/\"+str(i)\n",
    "    for j in os.listdir(path):\n",
    "        img = cv2.imread(path+\"/\"+j)\n",
    "        image = cv2.blur(img, (5, 5))\n",
    "        cv2.imwrite(\"/s/chopin/a/grad/sanket96/Image Computation/data_56_blur/test/\"+str(i)+\"/\"+j, image)\n",
    "y_test = torch.Tensor(y_test).type(torch.LongTensor)"
   ]
  },
  {
   "cell_type": "code",
   "execution_count": 38,
   "id": "c2021dd6",
   "metadata": {},
   "outputs": [],
   "source": [
    "train_set = datasets.ImageFolder('data_56/train', transform =  torchvision.transforms.Compose([torchvision.transforms.Grayscale(), torchvision.transforms.ToTensor()])\n",
    "    )\n",
    "test_set = datasets.ImageFolder('data_56_blur/test', transform =  torchvision.transforms.Compose([torchvision.transforms.Grayscale(), torchvision.transforms.ToTensor()])\n",
    "    )"
   ]
  },
  {
   "cell_type": "code",
   "execution_count": 39,
   "id": "b1b68907",
   "metadata": {},
   "outputs": [],
   "source": [
    "train_blur = DataLoader(train_set, batch_size=100, shuffle=True, num_workers=1)\n",
    "test_blur = DataLoader(test_set, batch_size=100, shuffle=True, num_workers=1)"
   ]
  },
  {
   "cell_type": "code",
   "execution_count": 41,
   "id": "f6adb84a",
   "metadata": {},
   "outputs": [
    {
     "name": "stdout",
     "output_type": "stream",
     "text": [
      "Epoch: 0 / 2, Step: 0/60000 Loss: 0.0181\n",
      "Epoch: 0 / 2, Step: 10000/60000 Loss: 0.0086\n",
      "Epoch: 0 / 2, Step: 20000/60000 Loss: 0.0553\n",
      "Epoch: 0 / 2, Step: 30000/60000 Loss: 0.0097\n",
      "Epoch: 0 / 2, Step: 40000/60000 Loss: 0.0199\n",
      "Epoch: 0 / 2, Step: 50000/60000 Loss: 0.0022\n",
      "Epoch: 1 / 2, Step: 0/60000 Loss: 0.0047\n",
      "Epoch: 1 / 2, Step: 10000/60000 Loss: 0.0377\n",
      "Epoch: 1 / 2, Step: 20000/60000 Loss: 0.0024\n",
      "Epoch: 1 / 2, Step: 30000/60000 Loss: 0.0374\n",
      "Epoch: 1 / 2, Step: 40000/60000 Loss: 0.0363\n",
      "Epoch: 1 / 2, Step: 50000/60000 Loss: 0.0178\n",
      "Epoch: 2 / 2, Step: 0/60000 Loss: 0.0011\n",
      "Epoch: 2 / 2, Step: 10000/60000 Loss: 0.0016\n",
      "Epoch: 2 / 2, Step: 20000/60000 Loss: 0.0160\n",
      "Epoch: 2 / 2, Step: 30000/60000 Loss: 0.0037\n",
      "Epoch: 2 / 2, Step: 40000/60000 Loss: 0.0057\n",
      "Epoch: 2 / 2, Step: 50000/60000 Loss: 0.0076\n"
     ]
    }
   ],
   "source": [
    "train(2, model, train_blur)"
   ]
  },
  {
   "cell_type": "code",
   "execution_count": 43,
   "id": "369e5462",
   "metadata": {},
   "outputs": [
    {
     "name": "stdout",
     "output_type": "stream",
     "text": [
      "1.0\n"
     ]
    }
   ],
   "source": [
    "model.eval()\n",
    "\n",
    "with torch.no_grad():\n",
    "    correct = 0\n",
    "    total = 0\n",
    "    for i, (images, labels) in enumerate(train_blur):\n",
    "        train_output = model(images.to(device))\n",
    "        pred_y = torch.max(train_output, 1)[1].data.squeeze()\n",
    "        accuracy = (pred_y == labels.to(device)).sum().item() / float(labels.size(0))\n",
    "print(accuracy)"
   ]
  },
  {
   "cell_type": "code",
   "execution_count": 44,
   "id": "a519dee6",
   "metadata": {},
   "outputs": [
    {
     "name": "stdout",
     "output_type": "stream",
     "text": [
      "0.31\n"
     ]
    }
   ],
   "source": [
    "model.eval()\n",
    "all_labels = []\n",
    "preds = []\n",
    "with torch.no_grad():\n",
    "    correct = 0\n",
    "    total = 0\n",
    "    for i, (images, labels) in enumerate(test_blur):\n",
    "        test_output = model(images.to(device))\n",
    "        pred_y = torch.max(test_output, 1)[1].data.squeeze()\n",
    "        all_labels.extend(labels)\n",
    "        preds.extend(pred_y)\n",
    "        accuracy = (pred_y == labels.to(device)).sum().item() / float(labels.size(0))\n",
    "print(accuracy)"
   ]
  },
  {
   "cell_type": "code",
   "execution_count": 45,
   "id": "e36abb30",
   "metadata": {},
   "outputs": [
    {
     "data": {
      "text/plain": [
       "<AxesSubplot:>"
      ]
     },
     "execution_count": 45,
     "metadata": {},
     "output_type": "execute_result"
    },
    {
     "data": {
      "image/png": "[encoded data removed]",
      "text/plain": [
       "<Figure size 864x504 with 2 Axes>"
      ]
     },
     "metadata": {
      "needs_background": "light"
     },
     "output_type": "display_data"
    }
   ],
   "source": [
    "classes =('0', '1', '2', '3', '4', '5', '6', '7', '8', '9')\n",
    "all_labels = torch.tensor(all_labels, device = 'cpu')\n",
    "preds = torch.tensor(preds, device = 'cpu')\n",
    "cf_matrix = confusion_matrix(all_labels, preds)\n",
    "df_cm = pd.DataFrame(cf_matrix/np.sum(cf_matrix) *10, index = [i for i in classes],\n",
    "                     columns = [i for i in classes])\n",
    "plt.figure(figsize = (12,7))\n",
    "sn.heatmap(df_cm, annot=True)"
   ]
  },
  {
   "cell_type": "code",
   "execution_count": null,
   "id": "20a6cd48",
   "metadata": {},
   "outputs": [],
   "source": []
  }
 ],
 "metadata": {
  "kernelspec": {
   "display_name": "Python 3 (ipykernel)",
   "language": "python",
   "name": "python3"
  },
  "language_info": {
   "codemirror_mode": {
    "name": "ipython",
    "version": 3
   },
   "file_extension": ".py",
   "mimetype": "text/x-python",
   "name": "python",
   "nbconvert_exporter": "python",
   "pygments_lexer": "ipython3",
   "version": "3.8.3"
  }
 },
 "nbformat": 4,
 "nbformat_minor": 5
}
